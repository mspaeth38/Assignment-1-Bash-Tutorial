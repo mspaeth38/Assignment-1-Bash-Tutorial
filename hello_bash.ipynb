{
 "cells": [
  {
   "cell_type": "markdown",
   "id": "90cb5b5d-89a5-4ca0-9ae1-af6010655dc2",
   "metadata": {},
   "source": [
    "This is a Jupyter Notebook showing Hello World from Bash"
   ]
  },
  {
   "cell_type": "markdown",
   "id": "b3e42325-63a6-4f99-be6c-a6b8ac20470a",
   "metadata": {},
   "source": [
    "#!/bin/bash\n",
    "#New hello world echo function for bash - note the use of %%bash inside Jupyter \n",
    "#since we are technically in the pythin kernel"
   ]
  },
  {
   "cell_type": "code",
   "execution_count": 4,
   "id": "a52f2cc6-315a-4d8a-ab87-5aacf9b9baa0",
   "metadata": {},
   "outputs": [
    {
     "name": "stdout",
     "output_type": "stream",
     "text": [
      "Hello, World from Bash!\n"
     ]
    }
   ],
   "source": [
    "%%bash\n",
    "echo \"Hello, World from Bash!\""
   ]
  }
 ],
 "metadata": {
  "kernelspec": {
   "display_name": "Python (7030_class_1)",
   "language": "python",
   "name": "7030_class_1"
  },
  "language_info": {
   "codemirror_mode": {
    "name": "ipython",
    "version": 3
   },
   "file_extension": ".py",
   "mimetype": "text/x-python",
   "name": "python",
   "nbconvert_exporter": "python",
   "pygments_lexer": "ipython3",
   "version": "3.10.18"
  }
 },
 "nbformat": 4,
 "nbformat_minor": 5
}
