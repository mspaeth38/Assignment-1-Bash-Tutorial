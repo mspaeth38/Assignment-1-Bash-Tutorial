{
 "cells": [
  {
   "cell_type": "code",
   "execution_count": null,
   "id": "df5dd046-9992-4751-897f-0504c0cdba40",
   "metadata": {},
   "outputs": [],
   "source": [
    "This is a Jupyter Notebook showing Hello World from Bash"
   ]
  },
  {
   "cell_type": "code",
   "execution_count": null,
   "id": "c5e53628-a962-4307-955d-9b203754a985",
   "metadata": {},
   "outputs": [],
   "source": [
    "#!/bin/bash\n",
    "#New hello world echo function for bash - note the use of %%bash inside Jupyter \n",
    "#since we are technically in the pythin kernel"
   ]
  },
  {
   "cell_type": "code",
   "execution_count": 3,
   "id": "a52f2cc6-315a-4d8a-ab87-5aacf9b9baa0",
   "metadata": {},
   "outputs": [
    {
     "name": "stdout",
     "output_type": "stream",
     "text": [
      "Hello, World from Bash!\n"
     ]
    }
   ],
   "source": [
    "%%bash\n",
    "echo \"Hello, World from Bash!\""
   ]
  }
 ],
 "metadata": {
  "kernelspec": {
   "display_name": "Python (7030_class_1)",
   "language": "python",
   "name": "7030_class_1"
  },
  "language_info": {
   "codemirror_mode": {
    "name": "ipython",
    "version": 3
   },
   "file_extension": ".py",
   "mimetype": "text/x-python",
   "name": "python",
   "nbconvert_exporter": "python",
   "pygments_lexer": "ipython3",
   "version": "3.10.18"
  }
 },
 "nbformat": 4,
 "nbformat_minor": 5
}
