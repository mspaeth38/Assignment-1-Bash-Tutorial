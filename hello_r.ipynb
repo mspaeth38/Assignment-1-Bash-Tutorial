{
 "cells": [
  {
   "cell_type": "code",
   "execution_count": null,
   "id": "eeb97faf-9cce-4ca3-8fa6-f3a6d9050219",
   "metadata": {},
   "outputs": [],
   "source": [
    "This is my Jupyter notebook for Hello World for R"
   ]
  },
  {
   "cell_type": "code",
   "execution_count": null,
   "id": "6c9b4f28-77a5-4018-8b0e-fbff5ce1204c",
   "metadata": {},
   "outputs": [],
   "source": [
    "#!/usr/bin/env Rscript"
   ]
  },
  {
   "cell_type": "code",
   "execution_count": 3,
   "id": "3faeb3b4-2a74-4616-a11e-7a5da5edd68e",
   "metadata": {},
   "outputs": [],
   "source": [
    "#Showing how to use the print(python) and echo(bash) function in R - note called cat"
   ]
  },
  {
   "cell_type": "code",
   "execution_count": 4,
   "id": "0c05b7da-b03a-4f04-a3a2-ab06af1f1009",
   "metadata": {},
   "outputs": [
    {
     "name": "stdout",
     "output_type": "stream",
     "text": [
      "Hello, World from R!\n"
     ]
    }
   ],
   "source": [
    "cat(\"Hello, World from R!\\n\")"
   ]
  },
  {
   "cell_type": "code",
   "execution_count": null,
   "id": "ba3f8bb6-2eae-4175-af45-0897cc61407c",
   "metadata": {},
   "outputs": [],
   "source": []
  }
 ],
 "metadata": {
  "kernelspec": {
   "display_name": "R (7030_class_1)",
   "language": "R",
   "name": "ir_7030_class_1"
  },
  "language_info": {
   "codemirror_mode": "r",
   "file_extension": ".r",
   "mimetype": "text/x-r-source",
   "name": "R",
   "pygments_lexer": "r",
   "version": "4.4.3"
  }
 },
 "nbformat": 4,
 "nbformat_minor": 5
}
