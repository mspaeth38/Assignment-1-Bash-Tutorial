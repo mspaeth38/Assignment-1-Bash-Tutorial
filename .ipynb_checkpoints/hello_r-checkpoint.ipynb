{
 "cells": [
  {
   "cell_type": "markdown",
   "id": "97cdea0b-6ff7-40c2-8789-3bee34ed82c0",
   "metadata": {},
   "source": [
    "# This is my Jupyter notebook for Hello World for R"
   ]
  },
  {
   "cell_type": "markdown",
   "id": "fe640fa9-9846-4b79-874e-5e0a88f11970",
   "metadata": {},
   "source": [
    "# !/usr/bin/env Rscript"
   ]
  },
  {
   "cell_type": "markdown",
   "id": "fca3bbfd-e845-4437-bdc3-e6b014398784",
   "metadata": {},
   "source": [
    "# Showing how to use the print(python) and echo(bash) function in R - note called cat"
   ]
  },
  {
   "cell_type": "code",
   "execution_count": 6,
   "id": "0c05b7da-b03a-4f04-a3a2-ab06af1f1009",
   "metadata": {},
   "outputs": [
    {
     "name": "stdout",
     "output_type": "stream",
     "text": [
      "Hello, World from R!\n"
     ]
    }
   ],
   "source": [
    "cat(\"Hello, World from R!\\n\")"
   ]
  },
  {
   "cell_type": "code",
   "execution_count": null,
   "id": "ba3f8bb6-2eae-4175-af45-0897cc61407c",
   "metadata": {},
   "outputs": [],
   "source": []
  }
 ],
 "metadata": {
  "kernelspec": {
   "display_name": "R (7030_class_1)",
   "language": "R",
   "name": "ir_7030_class_1"
  },
  "language_info": {
   "codemirror_mode": "r",
   "file_extension": ".r",
   "mimetype": "text/x-r-source",
   "name": "R",
   "pygments_lexer": "r",
   "version": "4.4.3"
  }
 },
 "nbformat": 4,
 "nbformat_minor": 5
}
