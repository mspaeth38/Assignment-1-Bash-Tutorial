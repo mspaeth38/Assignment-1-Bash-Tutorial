{
 "cells": [
  {
   "cell_type": "code",
   "execution_count": null,
   "id": "cd7d62a6-1867-4a63-865b-267e2c3016e4",
   "metadata": {},
   "outputs": [],
   "source": [
    "This is my notebook for the hellow world in python"
   ]
  },
  {
   "cell_type": "code",
   "execution_count": null,
   "id": "1adbe858-c5f0-42f9-9b5a-2d69e0d908e7",
   "metadata": {},
   "outputs": [],
   "source": [
    "#!/usr/bin/env python3\n",
    "#This is an example of hello world with python - note the print terminology instead of echo in bash"
   ]
  },
  {
   "cell_type": "code",
   "execution_count": 1,
   "id": "27c3e7e7-e280-4874-9463-ba9cca67b169",
   "metadata": {},
   "outputs": [
    {
     "name": "stdout",
     "output_type": "stream",
     "text": [
      "Hello, World from Python!\n"
     ]
    }
   ],
   "source": [
    "print(\"Hello, World from Python!\")"
   ]
  },
  {
   "cell_type": "code",
   "execution_count": null,
   "id": "f8b125de-9d92-4c0a-b892-456fecfca5d7",
   "metadata": {},
   "outputs": [],
   "source": []
  }
 ],
 "metadata": {
  "kernelspec": {
   "display_name": "Python (7030_class_1)",
   "language": "python",
   "name": "7030_class_1"
  },
  "language_info": {
   "codemirror_mode": {
    "name": "ipython",
    "version": 3
   },
   "file_extension": ".py",
   "mimetype": "text/x-python",
   "name": "python",
   "nbconvert_exporter": "python",
   "pygments_lexer": "ipython3",
   "version": "3.10.18"
  }
 },
 "nbformat": 4,
 "nbformat_minor": 5
}
