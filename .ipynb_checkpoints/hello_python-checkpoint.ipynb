{
 "cells": [
  {
   "cell_type": "markdown",
   "id": "1462531e-8f99-423a-ab78-7d3fc9e5b049",
   "metadata": {},
   "source": [
    "This is my notebook for the hello world in python"
   ]
  },
  {
   "cell_type": "markdown",
   "id": "fe773fb4-a690-47b9-a38d-8f1215d057a2",
   "metadata": {},
   "source": [
    "#!/usr/bin/env python3\n",
    "#This is an example of hello world with python - note the print terminology instead of echo in bash"
   ]
  },
  {
   "cell_type": "code",
   "execution_count": 3,
   "id": "27c3e7e7-e280-4874-9463-ba9cca67b169",
   "metadata": {},
   "outputs": [
    {
     "name": "stdout",
     "output_type": "stream",
     "text": [
      "Hello, World from Python!\n"
     ]
    }
   ],
   "source": [
    "print(\"Hello, World from Python!\")"
   ]
  }
 ],
 "metadata": {
  "kernelspec": {
   "display_name": "Python (7030_class_1)",
   "language": "python",
   "name": "7030_class_1"
  },
  "language_info": {
   "codemirror_mode": {
    "name": "ipython",
    "version": 3
   },
   "file_extension": ".py",
   "mimetype": "text/x-python",
   "name": "python",
   "nbconvert_exporter": "python",
   "pygments_lexer": "ipython3",
   "version": "3.10.18"
  }
 },
 "nbformat": 4,
 "nbformat_minor": 5
}
